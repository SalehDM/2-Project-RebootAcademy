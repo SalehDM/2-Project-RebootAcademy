{
 "cells": [
  {
   "cell_type": "code",
   "execution_count": null,
   "id": "a2b1e4b7-817c-4a55-b9bf-bacb0027d8b8",
   "metadata": {},
   "outputs": [],
   "source": [
    "import pandas as pd\n",
    "import matplotlib.pyplot as plt\n",
    "import seaborn as sns\n",
    "from scipy import stats\n",
    "import charset_normalizer\n",
    "from scipy import stats\n",
    "from sklearn.preprocessing import MinMaxScaler\n",
    "from sklearn.decomposition import PCA"
   ]
  },
  {
   "cell_type": "markdown",
   "id": "b8fe8b54-b64b-4bf4-bb37-46a44cc31d87",
   "metadata": {},
   "source": [
    "### Load the dataset"
   ]
  },
  {
   "cell_type": "code",
   "execution_count": null,
   "id": "07a30d43-b4e1-49fc-a99a-f0ef9de98c1a",
   "metadata": {},
   "outputs": [],
   "source": [
    "with open(\"sales_data.csv\", 'rb') as data:\n",
    "    result = charset_normalizer.detect(data.read(10000))\n",
    "print(result)"
   ]
  },
  {
   "cell_type": "code",
   "execution_count": null,
   "id": "f5dfb8fa-27b4-4664-bc62-c50ab88a7815",
   "metadata": {},
   "outputs": [],
   "source": [
    "dfp = pd.read_csv('sales_data.csv', encoding='ascii')\n",
    "dfp.to_csv('sales_data_utf.csv',encoding='utf-8', index=False)\n",
    "df = pd.read_csv('sales_data_utf.csv', encoding='utf-8')"
   ]
  },
  {
   "cell_type": "code",
   "execution_count": null,
   "id": "7369578b-7b4b-4341-9d19-ead545f46b8f",
   "metadata": {},
   "outputs": [],
   "source": [
    "df.head()"
   ]
  },
  {
   "cell_type": "markdown",
   "id": "803754d5-5b0a-4f33-a72c-b7c5830face8",
   "metadata": {},
   "source": [
    "### Inspect the dataset"
   ]
  },
  {
   "cell_type": "code",
   "execution_count": null,
   "id": "5d5dd055-9c6e-423d-85bc-8a69d0b36a28",
   "metadata": {},
   "outputs": [],
   "source": [
    "df.shape"
   ]
  },
  {
   "cell_type": "code",
   "execution_count": null,
   "id": "f3010def-a776-4a02-95da-8f6c824272d9",
   "metadata": {},
   "outputs": [],
   "source": [
    "column_names = df.columns.tolist()\n",
    "print(column_names)"
   ]
  },
  {
   "cell_type": "code",
   "execution_count": null,
   "id": "584b9bce-3733-4c3b-9e5f-4f0c1650b89b",
   "metadata": {},
   "outputs": [],
   "source": [
    "df.info()"
   ]
  },
  {
   "cell_type": "code",
   "execution_count": null,
   "id": "89657155-f404-4065-bc1d-a21e4be73786",
   "metadata": {},
   "outputs": [],
   "source": [
    "round(((158-141)/158)*100,2)"
   ]
  },
  {
   "cell_type": "code",
   "execution_count": null,
   "id": "19beca19-4aac-4b2d-89a0-f10cf07b9829",
   "metadata": {},
   "outputs": [],
   "source": [
    "round(((158-142)/158)*100,2)"
   ]
  },
  {
   "cell_type": "code",
   "execution_count": null,
   "id": "ca709820-5130-42f7-9d53-86d9f5ae03c5",
   "metadata": {},
   "outputs": [],
   "source": [
    "df.describe()"
   ]
  },
  {
   "cell_type": "markdown",
   "id": "df4acd66-3b73-4c98-b510-1fc4e965ab72",
   "metadata": {},
   "source": [
    "## Data Cleaning"
   ]
  },
  {
   "cell_type": "markdown",
   "id": "b38b7537-e35a-47ef-a181-e4a4890d72d5",
   "metadata": {},
   "source": [
    "### Handle missing values"
   ]
  },
  {
   "cell_type": "code",
   "execution_count": null,
   "id": "b8fabecf-73ca-4031-ac7b-94d5e16353f2",
   "metadata": {},
   "outputs": [],
   "source": [
    "df.isna().mean() * 100"
   ]
  },
  {
   "cell_type": "code",
   "execution_count": null,
   "id": "92a92b4e-36b6-44c4-9b9a-a805f5fa09c7",
   "metadata": {},
   "outputs": [],
   "source": [
    "df.fillna(df.select_dtypes(include='number').mean(), inplace=True)"
   ]
  },
  {
   "cell_type": "code",
   "execution_count": null,
   "id": "282c2926-54fb-40c2-a1fd-7ea648897f31",
   "metadata": {},
   "outputs": [],
   "source": [
    "df.isna().mean() * 100"
   ]
  },
  {
   "cell_type": "code",
   "execution_count": null,
   "id": "6f043799-08ff-4eec-9e90-c3b37fcc8c64",
   "metadata": {},
   "outputs": [],
   "source": [
    "df.fillna(df.select_dtypes(include=['object', 'string']).mode().loc[0], inplace=True)"
   ]
  },
  {
   "cell_type": "code",
   "execution_count": null,
   "id": "e835926a-ece2-4241-bde3-e3e23982ecf5",
   "metadata": {},
   "outputs": [],
   "source": [
    "df.isna().mean() * 100"
   ]
  },
  {
   "cell_type": "code",
   "execution_count": null,
   "id": "e4d23dda-e687-485b-a6e4-15ddc54c2f57",
   "metadata": {},
   "outputs": [],
   "source": [
    "df['Sales'] = df['Sales'].fillna(df['Sales'].mean()).round()"
   ]
  },
  {
   "cell_type": "code",
   "execution_count": null,
   "id": "896b6dfc-f296-422e-88fd-7f6a312c3a43",
   "metadata": {},
   "outputs": [],
   "source": [
    "df['Discount'] = df['Discount'].fillna(df['Discount'].mean())"
   ]
  },
  {
   "cell_type": "markdown",
   "id": "1f053837-d1ed-432a-929a-4be8757262b5",
   "metadata": {},
   "source": [
    "### Correct data types"
   ]
  },
  {
   "cell_type": "code",
   "execution_count": null,
   "id": "ca3aa725-51d0-4d9a-a9dd-179fcecfbb06",
   "metadata": {},
   "outputs": [],
   "source": [
    "def try_parsing_date(text):\n",
    "    for fmt in ('%Y-%m-%d', '%d/%m/%Y', '%B %d, %y', '%Y.%m.%d'):\n",
    "        try:\n",
    "            return pd.to_datetime(text, format=fmt)\n",
    "        except (ValueError, TypeError):\n",
    "            continue\n",
    "    return pd.NaT"
   ]
  },
  {
   "cell_type": "code",
   "execution_count": null,
   "id": "f1cc266b-8fd3-4cd8-a79a-3ef7adad3de9",
   "metadata": {},
   "outputs": [],
   "source": [
    "df['Date'] = df['Date'].apply(try_parsing_date)"
   ]
  },
  {
   "cell_type": "code",
   "execution_count": null,
   "id": "70d236fb-8bdb-4d72-8378-1dd3068b13b4",
   "metadata": {},
   "outputs": [],
   "source": [
    "df['year'] = df['sales_date'].dt.year"
   ]
  },
  {
   "cell_type": "code",
   "execution_count": null,
   "id": "79166837-e02b-498c-9d2a-c43ca6a101cc",
   "metadata": {},
   "outputs": [],
   "source": [
    "df['month'] = df['sales_date'].dt.month"
   ]
  },
  {
   "cell_type": "code",
   "execution_count": null,
   "id": "d02362bd-317c-4529-9524-44331a060304",
   "metadata": {},
   "outputs": [],
   "source": [
    "df['day'] = df['sales_date'].dt.day"
   ]
  },
  {
   "cell_type": "code",
   "execution_count": null,
   "id": "dd010db3-ccdb-496c-9b01-5dde298f87b7",
   "metadata": {},
   "outputs": [],
   "source": [
    "df.head()"
   ]
  },
  {
   "cell_type": "code",
   "execution_count": null,
   "id": "4b89d129-1ea0-4bd0-bd1a-70bf58bcdb25",
   "metadata": {},
   "outputs": [],
   "source": [
    "df = df.set_index('sales_date')"
   ]
  },
  {
   "cell_type": "code",
   "execution_count": null,
   "id": "048533f4-a6c8-4f37-ba8b-16602e235b33",
   "metadata": {},
   "outputs": [],
   "source": [
    "df['Category'].unique()"
   ]
  },
  {
   "cell_type": "code",
   "execution_count": null,
   "id": "a000a98a-2c6c-4ad2-a579-50900dfef123",
   "metadata": {},
   "outputs": [],
   "source": [
    "df['category'].replace({'Clothingg':'Clothing', 'beauty':'Beauty', 'toys':'Toys', 'Electroncs':'Electronics', 'Home':'Home Appliances'}, inplace=True)"
   ]
  },
  {
   "cell_type": "code",
   "execution_count": null,
   "id": "6cbd5156-261b-46c8-b0e4-a7f893628eaa",
   "metadata": {},
   "outputs": [],
   "source": [
    "df['Category'].unique()"
   ]
  },
  {
   "cell_type": "code",
   "execution_count": null,
   "id": "7dd50b59-bd01-4fe3-9010-1c590269901f",
   "metadata": {},
   "outputs": [],
   "source": [
    "df['Region'].unique()"
   ]
  },
  {
   "cell_type": "code",
   "execution_count": null,
   "id": "77582f83-b563-4e83-b3ea-72effc70da16",
   "metadata": {},
   "outputs": [],
   "source": [
    "df.dtypes"
   ]
  },
  {
   "cell_type": "code",
   "execution_count": null,
   "id": "1e6f5d6c-20ed-48ec-b1f7-5d2e5697193e",
   "metadata": {},
   "outputs": [],
   "source": [
    "dtype_mapping = {'Product_ID':str, 'Category':'category', 'Region':'category', 'Sales':int, 'Discount':float}"
   ]
  },
  {
   "cell_type": "code",
   "execution_count": null,
   "id": "7af85672-6d5a-46d9-9182-1eda1610398a",
   "metadata": {},
   "outputs": [],
   "source": [
    "df = df.astype(dtype_mapping)"
   ]
  },
  {
   "cell_type": "code",
   "execution_count": null,
   "id": "fa2b0740-7808-49a2-aaa9-ed94a7ed814c",
   "metadata": {},
   "outputs": [],
   "source": [
    "df.info()"
   ]
  },
  {
   "cell_type": "markdown",
   "id": "81dd0023-a43e-489e-9037-570bb415bd06",
   "metadata": {},
   "source": [
    "### Remove duplicates"
   ]
  },
  {
   "cell_type": "code",
   "execution_count": null,
   "id": "1358fd81-5e96-41ea-984f-5d3dc0f02c93",
   "metadata": {},
   "outputs": [],
   "source": [
    "duplicates = df.duplicated()\n",
    "print(f\"Duplicated count: {duplicates.sum()}\")"
   ]
  },
  {
   "cell_type": "code",
   "execution_count": null,
   "id": "dc6e1e95-d527-4211-aedc-dbab1b5aad1f",
   "metadata": {},
   "outputs": [],
   "source": [
    "print(f\"Number of rows before removing duplicates: {df.shape[0]}\")\n",
    "df.drop_duplicates(inplace=True)\n",
    "print(f\"Number of rows after removing duplicates: {df.shape[0]}\")"
   ]
  },
  {
   "cell_type": "code",
   "execution_count": null,
   "id": "81eef009-4a8f-4a13-903d-14e55e24ff56",
   "metadata": {},
   "outputs": [],
   "source": []
  },
  {
   "cell_type": "markdown",
   "id": "56db08b6-605c-46a6-acd8-f07a236beb97",
   "metadata": {},
   "source": [
    "## Creating Dummy Variables and Preventing Redundancy"
   ]
  },
  {
   "cell_type": "code",
   "execution_count": null,
   "id": "ef8d403e-81e9-4c84-9c9a-e2be7a2315a1",
   "metadata": {},
   "outputs": [],
   "source": [
    "df_dummies_region = pd.get_dummies(df['region'], columns=['region'],prefix='region', prefix_sep='_', dtype='int64' , drop_first=True)"
   ]
  },
  {
   "cell_type": "code",
   "execution_count": null,
   "id": "35d21be0-bafb-4bae-9ca0-65a4156ff7b2",
   "metadata": {},
   "outputs": [],
   "source": [
    "df_dummies_region.head()"
   ]
  },
  {
   "cell_type": "code",
   "execution_count": null,
   "id": "64eaf1b7-5d93-4568-9bee-2b8e2fca21a6",
   "metadata": {},
   "outputs": [],
   "source": [
    "new_df = df.join(df_dummies_region)"
   ]
  },
  {
   "cell_type": "code",
   "execution_count": null,
   "id": "a238fbb3-21e0-4de1-a28a-c870e5b3cc91",
   "metadata": {},
   "outputs": [],
   "source": [
    "new_df.head()"
   ]
  },
  {
   "cell_type": "markdown",
   "id": "5ce8b304-9e0e-490a-a2d6-4470f2c41c99",
   "metadata": {},
   "source": [
    "## Data Visualization with Matplotlib and Seaborn"
   ]
  },
  {
   "cell_type": "markdown",
   "id": "cdc811ba-409a-463b-b22e-17828cb3fc83",
   "metadata": {},
   "source": [
    "### Distribution of Numerical Variables"
   ]
  },
  {
   "cell_type": "code",
   "execution_count": null,
   "id": "7354369d-2e4d-4662-bc2c-0d4365622841",
   "metadata": {},
   "outputs": [],
   "source": [
    "fig, axes = plt.subplots(2, 2, figsize=(12, 10))\n",
    "sns.histplot(df['Sales'], kde=True, ax=axes[0, 0])\n",
    "sns.histplot(df['Discount'], kde=True, ax=axes[0, 1])\n",
    "sns.boxplot(df['Sales'], ax=axes[1, 0])\n",
    "sns.boxplot(df['Discount'], ax=axes[1, 1])\n",
    "plt.show()"
   ]
  },
  {
   "cell_type": "markdown",
   "id": "5ba0af05-b554-440d-ae5b-0ede461e8def",
   "metadata": {},
   "source": [
    "### Categorical Variable Analysis"
   ]
  },
  {
   "cell_type": "code",
   "execution_count": null,
   "id": "960b1244-16c2-44f4-b218-bfaa7e7fee2c",
   "metadata": {},
   "outputs": [],
   "source": [
    "fig, axes = plt.subplots(2, 1, figsize=(12, 10))\n",
    "\n",
    "sns.countplot(x='Category', data=df, ax=axes[0])\n",
    "sns.countplot(x='Region', data=df, ax=axes[1])\n",
    "\n",
    "plt.show()"
   ]
  },
  {
   "cell_type": "markdown",
   "id": "ae0b1464-b8b3-495a-aea8-82b36f5acabf",
   "metadata": {},
   "source": [
    "### Correlation Analysis"
   ]
  },
  {
   "cell_type": "code",
   "execution_count": null,
   "id": "65e619b2-7878-4611-8286-14e5db6ceaac",
   "metadata": {},
   "outputs": [],
   "source": [
    "data=df[['Sales', 'Discount']].corr()\n",
    "plot=sns.heatmap(data, annot=True, cmap='coolwarm', vmin=-1, vmax=1, xticklabels=True, yticklabels=True)\n",
    "plot.set_title('Correlations Between Variables')\n",
    "plt.show()"
   ]
  },
  {
   "cell_type": "code",
   "execution_count": null,
   "id": "30512421-e2c0-45ec-82f9-68d0e2c510ed",
   "metadata": {},
   "outputs": [],
   "source": []
  },
  {
   "cell_type": "markdown",
   "id": "7be13808-f05d-4ee2-aef8-66a1880a8b44",
   "metadata": {},
   "source": [
    "## Hypothesis Testing"
   ]
  },
  {
   "cell_type": "code",
   "execution_count": null,
   "id": "2f98bc4a-ec6e-452a-a17a-8ebdc9753ec2",
   "metadata": {},
   "outputs": [],
   "source": [
    "stat, p_value = stats.shapiro(df.select_dtypes(exclude=['datetime64', 'object', 'category']))\n",
    "print('Statistics=%.3f, p=%.3f' % (stat, p_value))\n",
    "if p_value > 0.05:\n",
    "    print('Sample looks Gaussian (fail to reject H0)')\n",
    "else:\n",
    "    print('Sample does not look Gaussian (reject H0)')"
   ]
  },
  {
   "cell_type": "markdown",
   "id": "9deb0197-756c-4bf9-a85b-c1f34335292c",
   "metadata": {},
   "source": [
    "## Data Scaling"
   ]
  },
  {
   "cell_type": "code",
   "execution_count": null,
   "id": "8b354e2e-d2f8-46ae-8777-9cfd287d0d34",
   "metadata": {},
   "outputs": [],
   "source": [
    "normalization_scaler = MinMaxScaler()\n",
    "normalization_data = normalization_scaler.fit_transform(df.loc[:,['Sales', 'Discount']])\n",
    "\n",
    "normalization_df = pd.DataFrame(normalization_data, columns=df.loc[:,['Sales', 'Discount']].columns)\n",
    "\n",
    "print(\"Normalization:\")\n",
    "normalization_df.head()"
   ]
  },
  {
   "cell_type": "code",
   "execution_count": null,
   "id": "ab4fba20-b617-47c9-b7dd-a79a4e09db47",
   "metadata": {},
   "outputs": [],
   "source": [
    "standardization_scaler = StandardScaler()\n",
    "standardization_data = standardization_scaler.fit_transform(df.loc[:,['price',\t'units_sold']])\n",
    "standardization_df = pd.DataFrame(standardization_data, columns=df.loc[:,['price',\t'units_sold']].columns)\n",
    "\n",
    "print(\"Standardization:\")\n",
    "standardization_df.head()"
   ]
  },
  {
   "cell_type": "markdown",
   "id": "161ed6d1-c84e-4792-815c-f40e6ca77430",
   "metadata": {},
   "source": [
    "### Verify the Transformation:"
   ]
  },
  {
   "cell_type": "code",
   "execution_count": null,
   "id": "1ba28285-34d1-4905-8a28-5ba81e363680",
   "metadata": {},
   "outputs": [],
   "source": [
    "normalization_df.describe()"
   ]
  },
  {
   "cell_type": "code",
   "execution_count": null,
   "id": "34380f57-2aca-4eca-bc74-68e063e0e3b2",
   "metadata": {},
   "outputs": [],
   "source": []
  },
  {
   "cell_type": "markdown",
   "id": "6895bc26-fa47-4549-9ffb-88adf630f257",
   "metadata": {},
   "source": [
    "## Dimensionality Reduction with PCA"
   ]
  },
  {
   "cell_type": "markdown",
   "id": "65c8503c-3654-45ef-a3c5-d4f32e3ac211",
   "metadata": {},
   "source": [
    "### Prepare the Data:"
   ]
  },
  {
   "cell_type": "code",
   "execution_count": null,
   "id": "52ba9113-fded-4aa7-9ec6-77a05378e547",
   "metadata": {},
   "outputs": [],
   "source": [
    "normalization_scaler = MinMaxScaler()\n",
    "normalization_data = normalization_scaler.fit_transform(df.loc[:,['Sales', 'Discount']])\n",
    "\n",
    "print(\"Normalization:\")\n",
    "normalization_df.head()"
   ]
  },
  {
   "cell_type": "code",
   "execution_count": null,
   "id": "466f757d-9524-48a5-a294-870015706f44",
   "metadata": {},
   "outputs": [],
   "source": [
    "pca = PCA(n_components=1)\n",
    "\n",
    "# Step 2: Fit PCA on the standardized data and transform it to get the principal components.\n",
    "principal_components = pca.fit_transform(normalization_data)\n",
    "\n",
    "# Step 3: Create a DataFrame to store the principal components for easier visualization and analysis.\n",
    "principal_df = pd.DataFrame(data=principal_components, columns=['Principal Component 1'])\n",
    "\n",
    "\n",
    "# Display the first few rows of the DataFrame to see the principal components.\n",
    "print(principal_df.head())"
   ]
  },
  {
   "cell_type": "markdown",
   "id": "b5a02ef5-86ef-452d-9f4f-b249cccc2eab",
   "metadata": {},
   "source": [
    "### Apply PCA:"
   ]
  },
  {
   "cell_type": "code",
   "execution_count": null,
   "id": "50cc38a1-0157-4249-9cc0-72cbec63df68",
   "metadata": {},
   "outputs": [],
   "source": [
    "pca = PCA(n_components=1)\n",
    "\n",
    "principal_components = pca.fit_transform(normalization_data)\n",
    "\n",
    "principal_df = pd.DataFrame(data=principal_components, columns=['Principal Component 1'])\n",
    "\n",
    "print(principal_df.head())"
   ]
  },
  {
   "cell_type": "code",
   "execution_count": null,
   "id": "2053a4f1-b565-447e-b4dd-af97045d6954",
   "metadata": {},
   "outputs": [],
   "source": [
    "loadings = pca.components_.T\n",
    "loading_df = pd.DataFrame(loadings, columns=['Principal Component 1'], index=df.loc[:,['Sales', 'Discount']].columns)\n",
    "print(loading_df)"
   ]
  },
  {
   "cell_type": "markdown",
   "id": "df65dfc1-c82b-4111-872a-6da1599b081b",
   "metadata": {},
   "source": [
    "### Visualize PCA Components:"
   ]
  },
  {
   "cell_type": "code",
   "execution_count": null,
   "id": "1f608ac9-23fd-4cad-a427-186cc5eefe30",
   "metadata": {},
   "outputs": [],
   "source": [
    "plt.figure(figsize=(10, 6))\n",
    "sns.heatmap(loading_df, annot=True, cmap='coolwarm', center=0)\n",
    "plt.title('PCA Component Loadings')\n",
    "plt.show()"
   ]
  },
  {
   "cell_type": "code",
   "execution_count": null,
   "id": "36787b46-ae46-4737-8e7c-a9e0c72f3874",
   "metadata": {},
   "outputs": [],
   "source": []
  },
  {
   "cell_type": "code",
   "execution_count": null,
   "id": "34a7addc-6ae7-48a3-a60e-270078b12c26",
   "metadata": {},
   "outputs": [],
   "source": []
  },
  {
   "cell_type": "code",
   "execution_count": null,
   "id": "cf198b3c-0c9a-4fae-bcef-c7946b3610d4",
   "metadata": {},
   "outputs": [],
   "source": []
  }
 ],
 "metadata": {
  "kernelspec": {
   "display_name": "Python [conda env:base] *",
   "language": "python",
   "name": "conda-base-py"
  },
  "language_info": {
   "codemirror_mode": {
    "name": "ipython",
    "version": 3
   },
   "file_extension": ".py",
   "mimetype": "text/x-python",
   "name": "python",
   "nbconvert_exporter": "python",
   "pygments_lexer": "ipython3",
   "version": "3.12.4"
  }
 },
 "nbformat": 4,
 "nbformat_minor": 5
}
